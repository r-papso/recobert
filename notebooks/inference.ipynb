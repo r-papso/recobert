{
 "cells": [
  {
   "cell_type": "code",
   "execution_count": 1,
   "metadata": {},
   "outputs": [
    {
     "name": "stderr",
     "output_type": "stream",
     "text": [
      "/home/rastislav_papso/.conda/envs/nlp_course/lib/python3.9/site-packages/tqdm/auto.py:22: TqdmWarning: IProgress not found. Please update jupyter and ipywidgets. See https://ipywidgets.readthedocs.io/en/stable/user_install.html\n",
      "  from .autonotebook import tqdm as notebook_tqdm\n"
     ]
    }
   ],
   "source": [
    "import sys\n",
    "import torch\n",
    "import pandas as pd"
   ]
  },
  {
   "cell_type": "code",
   "execution_count": 2,
   "metadata": {},
   "outputs": [],
   "source": [
    "from transformers import BertTokenizer, BertModel\n",
    "from transformers import RobertaTokenizer, RobertaModel"
   ]
  },
  {
   "cell_type": "code",
   "execution_count": 3,
   "metadata": {},
   "outputs": [],
   "source": [
    "import sys\n",
    "sys.path.append(\"..\")"
   ]
  },
  {
   "cell_type": "code",
   "execution_count": 4,
   "metadata": {},
   "outputs": [],
   "source": [
    "from src.model import TitleDescriptionHead\n",
    "from src.data import RobertaTokenizerWrapper"
   ]
  },
  {
   "cell_type": "code",
   "execution_count": 13,
   "metadata": {},
   "outputs": [
    {
     "name": "stderr",
     "output_type": "stream",
     "text": [
      "Some weights of the model checkpoint at bert-base-cased were not used when initializing BertModel: ['cls.seq_relationship.bias', 'cls.predictions.transform.LayerNorm.bias', 'cls.predictions.decoder.weight', 'cls.predictions.transform.dense.weight', 'cls.predictions.transform.LayerNorm.weight', 'cls.seq_relationship.weight', 'cls.predictions.bias', 'cls.predictions.transform.dense.bias']\n",
      "- This IS expected if you are initializing BertModel from the checkpoint of a model trained on another task or with another architecture (e.g. initializing a BertForSequenceClassification model from a BertForPreTraining model).\n",
      "- This IS NOT expected if you are initializing BertModel from the checkpoint of a model that you expect to be exactly identical (initializing a BertForSequenceClassification model from a BertForSequenceClassification model).\n"
     ]
    }
   ],
   "source": [
    "# BERT (https://arxiv.org/pdf/1810.04805.pdf)\n",
    "tokenizer = BertTokenizer.from_pretrained('bert-base-cased')"
   ]
  },
  {
   "cell_type": "code",
   "execution_count": 5,
   "metadata": {},
   "outputs": [],
   "source": [
    "# SlovakBERT (https://arxiv.org/abs/2109.15254)\n",
    "wrappee = RobertaTokenizer.from_pretrained('gerulata/slovakbert')\n",
    "tokenizer = RobertaTokenizerWrapper(wrappee)"
   ]
  },
  {
   "cell_type": "code",
   "execution_count": 14,
   "metadata": {},
   "outputs": [],
   "source": [
    "model = torch.load(\"../scripts/checkpoint/097_0.7962.pth\")"
   ]
  },
  {
   "cell_type": "code",
   "execution_count": 36,
   "metadata": {},
   "outputs": [
    {
     "name": "stdout",
     "output_type": "stream",
     "text": [
      "Using cuda:2 device\n"
     ]
    }
   ],
   "source": [
    "device = \"cuda:2\" if torch.cuda.is_available() else \"cpu\"\n",
    "print(f\"Using {device} device\")\n",
    "model = model.eval().to(device)"
   ]
  },
  {
   "cell_type": "code",
   "execution_count": 55,
   "metadata": {},
   "outputs": [],
   "source": [
    "df = pd.read_csv(\"../data/wines_seeds_complete.csv\", index_col=0)"
   ]
  },
  {
   "cell_type": "code",
   "execution_count": null,
   "metadata": {},
   "outputs": [],
   "source": [
    "td_head = TitleDescriptionHead()"
   ]
  },
  {
   "cell_type": "code",
   "execution_count": null,
   "metadata": {},
   "outputs": [],
   "source": [
    "prev_seed = \"\"\n",
    "ratings, targets = [], []\n",
    "\n",
    "with torch.no_grad():\n",
    "    for i, seed in df.iterrows():\n",
    "        if seed[\"seed title\"] == prev_seed:\n",
    "            continue\n",
    "\n",
    "        prev_seed = seed[\"seed title\"]\n",
    "        rating, target = [], []\n",
    "\n",
    "        for j, reco in df.iterrows():\n",
    "            seed_t, seed_d = seed[\"seed title\"], seed[\"seed description\"]\n",
    "            reco_t, reco_d = reco[\"recommended title\"], reco[\"recommended description\"]\n",
    "\n",
    "            seed_tokens = tokenizer(\n",
    "                [seed_t], [seed_d], return_special_tokens_mask=True, return_token_type_ids=True, \n",
    "                padding=True, truncation=True, return_attention_mask=True, return_tensors=\"pt\"\n",
    "            )\n",
    "\n",
    "            special_tokens, attn_mask = seed_tokens[\"special_tokens_mask\"].to(device), seed_tokens[\"attention_mask\"].to(device)\n",
    "            input_ids, token_types = seed_tokens[\"input_ids\"].to(device), seed_tokens[\"token_type_ids\"].to(device)\n",
    "\n",
    "            seed_out = model.forward(input_ids=input_ids, attn_mask=attn_mask, special_tokens=special_tokens, token_types=token_types)\n",
    "            seed_ft, seed_fd = seed_out[\"f_t\"], seed_out[\"f_d\"]\n",
    "            \n",
    "            reco_tokens = tokenizer(\n",
    "                [reco_t], [reco_d], return_special_tokens_mask=True, return_token_type_ids=True, \n",
    "                padding=True, truncation=True, return_attention_mask=True, return_tensors=\"pt\"\n",
    "            )\n",
    "\n",
    "            special_tokens, attn_mask = reco_tokens[\"special_tokens_mask\"].to(device), reco_tokens[\"attention_mask\"].to(device)\n",
    "            input_ids, token_types = reco_tokens[\"input_ids\"].to(device), reco_tokens[\"token_type_ids\"].to(device)\n",
    "\n",
    "            reco_out = model.forward(input_ids=input_ids, attn_mask=attn_mask, special_tokens=special_tokens, token_types=token_types)\n",
    "            reco_ft, reco_fd = reco_out[\"f_t\"], reco_out[\"f_d\"]\n",
    "\n",
    "            td_tokens = tokenizer(\n",
    "                [seed_t], [reco_d], return_special_tokens_mask=True, return_token_type_ids=True, \n",
    "                padding=True, truncation=True, return_attention_mask=True, return_tensors=\"pt\"\n",
    "            )\n",
    "\n",
    "            special_tokens, attn_mask = td_tokens[\"special_tokens_mask\"].to(device), td_tokens[\"attention_mask\"].to(device)\n",
    "            input_ids, token_types = td_tokens[\"input_ids\"].to(device), td_tokens[\"token_type_ids\"].to(device)\n",
    "\n",
    "            td_out = model.forward(input_ids=input_ids, attn_mask=attn_mask, special_tokens=special_tokens, token_types=token_types)\n",
    "            td_sim = td_out[\"cos_sim\"]\n",
    "\n",
    "            dt_tokens = tokenizer(\n",
    "                [reco_t], [seed_d], return_special_tokens_mask=True, return_token_type_ids=True, \n",
    "                padding=True, truncation=True, return_attention_mask=True, return_tensors=\"pt\"\n",
    "            )\n",
    "\n",
    "            special_tokens, attn_mask = dt_tokens[\"special_tokens_mask\"].to(device), dt_tokens[\"attention_mask\"].to(device)\n",
    "            input_ids, token_types = dt_tokens[\"input_ids\"].to(device), dt_tokens[\"token_type_ids\"].to(device)\n",
    "\n",
    "            dt_out = model.forward(input_ids=input_ids, attn_mask=attn_mask, special_tokens=special_tokens, token_types=token_types)\n",
    "            dt_sim = dt_out[\"cos_sim\"]\n",
    "\n",
    "            tt_sim = td_head.forward(seed_ft, reco_ft)\n",
    "            dd_sim = td_head.forward(seed_fd, reco_fd)\n",
    "\n",
    "            total = sum([td_sim, dt_sim, tt_sim, dd_sim])\n",
    "            label = seed[\"seed title\"] == reco[\"seed title\"]\n",
    "\n",
    "            rating.append(total)\n",
    "            target.append(label)\n",
    "\n",
    "        ratings.append(rating)\n",
    "        targets.append(target)\n",
    "\n",
    "        if i > 0 and i % 10 == 0:\n",
    "            print(f\"Row {i} processed...\")"
   ]
  },
  {
   "cell_type": "code",
   "execution_count": 97,
   "metadata": {},
   "outputs": [],
   "source": [
    "r = torch.tensor(ratings)\n",
    "y = torch.tensor(targets)"
   ]
  },
  {
   "cell_type": "code",
   "execution_count": 103,
   "metadata": {},
   "outputs": [],
   "source": [
    "torch.save(r, \"../data/wine_scores.pt\")\n",
    "torch.save(y, \"../data/wine_labels.pt\")"
   ]
  },
  {
   "cell_type": "code",
   "execution_count": 4,
   "metadata": {},
   "outputs": [],
   "source": [
    "r = torch.load(\"../data/wine_scores.pt\")\n",
    "y = torch.load(\"../data/wine_labels.pt\")"
   ]
  },
  {
   "cell_type": "code",
   "execution_count": 7,
   "metadata": {},
   "outputs": [],
   "source": [
    "r_sort, idxs = torch.sort(r, descending=True)\n",
    "y_sort = torch.gather(y, dim=1, index=idxs)"
   ]
  },
  {
   "cell_type": "code",
   "execution_count": 16,
   "metadata": {},
   "outputs": [],
   "source": [
    "hr100 = torch.sum(y_sort[:, :100]).item() / y.shape[1]\n",
    "hr50 = torch.sum(y_sort[:, :50]).item() / y.shape[1]\n",
    "hr10 = torch.sum(y_sort[:, :10]).item() / y.shape[1]"
   ]
  },
  {
   "cell_type": "code",
   "execution_count": 47,
   "metadata": {},
   "outputs": [],
   "source": [
    "RR = 0\n",
    "\n",
    "for i in range(y_sort.shape[0]):\n",
    "    rank = torch.nonzero(y_sort[i])[0].item() + 1\n",
    "    RR += (1 / rank)\n",
    "\n",
    "MRR = RR / y_sort.shape[0]"
   ]
  },
  {
   "cell_type": "code",
   "execution_count": 78,
   "metadata": {},
   "outputs": [],
   "source": [
    "PR = 0\n",
    "\n",
    "for i in range(y_sort.shape[0]):\n",
    "    ranks = torch.nonzero(y_sort[i])\n",
    "    percentiles = (ranks.squeeze() + 1) / y_sort[1].shape[0]\n",
    "    PR += torch.mean(percentiles).item()\n",
    "\n",
    "MPR = PR / y_sort.shape[0]"
   ]
  },
  {
   "cell_type": "code",
   "execution_count": 6,
   "metadata": {},
   "outputs": [],
   "source": [
    "df = pd.read_csv(\"../data/fashion.csv\", index_col=0)\n",
    "split = int(len(df) * 0.8)\n",
    "test_df = df[split:]"
   ]
  },
  {
   "cell_type": "code",
   "execution_count": 7,
   "metadata": {},
   "outputs": [],
   "source": [
    "td_head = TitleDescriptionHead()"
   ]
  },
  {
   "cell_type": "code",
   "execution_count": 8,
   "metadata": {},
   "outputs": [],
   "source": [
    "model = torch.load(\"../scripts/models/fashion_095_0.5390.pth\")"
   ]
  },
  {
   "cell_type": "code",
   "execution_count": 9,
   "metadata": {},
   "outputs": [
    {
     "name": "stdout",
     "output_type": "stream",
     "text": [
      "Using cuda:3 device\n"
     ]
    }
   ],
   "source": [
    "device = \"cuda:3\" if torch.cuda.is_available() else \"cpu\"\n",
    "print(f\"Using {device} device\")\n",
    "model = model.eval().to(device)"
   ]
  },
  {
   "cell_type": "code",
   "execution_count": 12,
   "metadata": {},
   "outputs": [
    {
     "name": "stdout",
     "output_type": "stream",
     "text": [
      "Row 29730 processed...\n"
     ]
    },
    {
     "ename": "KeyboardInterrupt",
     "evalue": "",
     "output_type": "error",
     "traceback": [
      "\u001b[0;31m---------------------------------------------------------------------------\u001b[0m",
      "\u001b[0;31mKeyboardInterrupt\u001b[0m                         Traceback (most recent call last)",
      "Cell \u001b[0;32mIn [12], line 17\u001b[0m\n\u001b[1;32m     14\u001b[0m seed_t, seed_d \u001b[39m=\u001b[39m seed[\u001b[39m\"\u001b[39m\u001b[39mtitle\u001b[39m\u001b[39m\"\u001b[39m], seed[\u001b[39m\"\u001b[39m\u001b[39mdescription\u001b[39m\u001b[39m\"\u001b[39m]\n\u001b[1;32m     15\u001b[0m reco_t, reco_d \u001b[39m=\u001b[39m reco[\u001b[39m\"\u001b[39m\u001b[39mtitle\u001b[39m\u001b[39m\"\u001b[39m], reco[\u001b[39m\"\u001b[39m\u001b[39mdescription\u001b[39m\u001b[39m\"\u001b[39m]\n\u001b[0;32m---> 17\u001b[0m tokens \u001b[39m=\u001b[39m tokenizer(\n\u001b[1;32m     18\u001b[0m     [seed_t, reco_t, seed_t, reco_t],\n\u001b[1;32m     19\u001b[0m     [seed_d, reco_d, reco_d, seed_d],\n\u001b[1;32m     20\u001b[0m     return_special_tokens_mask\u001b[39m=\u001b[39;49m\u001b[39mTrue\u001b[39;49;00m,\n\u001b[1;32m     21\u001b[0m     return_token_type_ids\u001b[39m=\u001b[39;49m\u001b[39mTrue\u001b[39;49;00m, \n\u001b[1;32m     22\u001b[0m     padding\u001b[39m=\u001b[39;49m\u001b[39mTrue\u001b[39;49;00m, truncation\u001b[39m=\u001b[39;49m\u001b[39mTrue\u001b[39;49;00m,\n\u001b[1;32m     23\u001b[0m     return_attention_mask\u001b[39m=\u001b[39;49m\u001b[39mTrue\u001b[39;49;00m,\n\u001b[1;32m     24\u001b[0m     return_tensors\u001b[39m=\u001b[39;49m\u001b[39m\"\u001b[39;49m\u001b[39mpt\u001b[39;49m\u001b[39m\"\u001b[39;49m\n\u001b[1;32m     25\u001b[0m )\n\u001b[1;32m     27\u001b[0m special_tokens, attn_mask \u001b[39m=\u001b[39m seed_tokens[\u001b[39m\"\u001b[39m\u001b[39mspecial_tokens_mask\u001b[39m\u001b[39m\"\u001b[39m]\u001b[39m.\u001b[39mto(device), seed_tokens[\u001b[39m\"\u001b[39m\u001b[39mattention_mask\u001b[39m\u001b[39m\"\u001b[39m]\u001b[39m.\u001b[39mto(device)\n\u001b[1;32m     28\u001b[0m input_ids, token_types \u001b[39m=\u001b[39m seed_tokens[\u001b[39m\"\u001b[39m\u001b[39minput_ids\u001b[39m\u001b[39m\"\u001b[39m]\u001b[39m.\u001b[39mto(device), seed_tokens[\u001b[39m\"\u001b[39m\u001b[39mtoken_type_ids\u001b[39m\u001b[39m\"\u001b[39m]\u001b[39m.\u001b[39mto(device)\n",
      "File \u001b[0;32m~/projects/nlp_course/recobert/notebooks/../src/data.py:66\u001b[0m, in \u001b[0;36mRobertaTokenizerWrapper.__call__\u001b[0;34m(self, titles, descrs, return_special_tokens_mask, return_token_type_ids, padding, truncation, return_attention_mask, return_tensors)\u001b[0m\n\u001b[1;32m     63\u001b[0m sep_count \u001b[39m=\u001b[39m \u001b[39m0\u001b[39m\n\u001b[1;32m     65\u001b[0m \u001b[39mfor\u001b[39;00m j \u001b[39min\u001b[39;00m \u001b[39mrange\u001b[39m(\u001b[39mlen\u001b[39m(encoded[\u001b[39m\"\u001b[39m\u001b[39minput_ids\u001b[39m\u001b[39m\"\u001b[39m][i])):\n\u001b[0;32m---> 66\u001b[0m     \u001b[39mif\u001b[39;00m encoded[\u001b[39m\"\u001b[39;49m\u001b[39minput_ids\u001b[39;49m\u001b[39m\"\u001b[39;49m][i][j] \u001b[39m==\u001b[39;49m \u001b[39mself\u001b[39;49m\u001b[39m.\u001b[39;49mtokenizer\u001b[39m.\u001b[39;49msep_token_id:\n\u001b[1;32m     67\u001b[0m         sep_count \u001b[39m+\u001b[39m\u001b[39m=\u001b[39m \u001b[39m1\u001b[39m\n\u001b[1;32m     68\u001b[0m         \u001b[39mcontinue\u001b[39;00m\n",
      "\u001b[0;31mKeyboardInterrupt\u001b[0m: "
     ]
    }
   ],
   "source": [
    "ratings, targets = [], []\n",
    "\n",
    "with torch.no_grad():\n",
    "    for i, seed in test_df.iterrows():\n",
    "        if len(test_df[test_df[\"label\"] == seed[\"label\"]]) <= 1:\n",
    "            continue\n",
    "\n",
    "        rating, target = [], []\n",
    "\n",
    "        for j, reco in test_df.iterrows():\n",
    "            if seed[\"id\"] == reco[\"id\"]:\n",
    "                continue\n",
    "\n",
    "            seed_t, seed_d = seed[\"title\"], seed[\"description\"]\n",
    "            reco_t, reco_d = reco[\"title\"], reco[\"description\"]\n",
    "\n",
    "            tokens = tokenizer(\n",
    "                [seed_t, reco_t, seed_t, reco_t],\n",
    "                [seed_d, reco_d, reco_d, seed_d],\n",
    "                return_special_tokens_mask=True,\n",
    "                return_token_type_ids=True, \n",
    "                padding=True, truncation=True,\n",
    "                return_attention_mask=True,\n",
    "                return_tensors=\"pt\"\n",
    "            )\n",
    "\n",
    "            special_tokens, attn_mask = seed_tokens[\"special_tokens_mask\"].to(device), seed_tokens[\"attention_mask\"].to(device)\n",
    "            input_ids, token_types = seed_tokens[\"input_ids\"].to(device), seed_tokens[\"token_type_ids\"].to(device)\n",
    "\n",
    "            out = model.forward(input_ids=input_ids, attn_mask=attn_mask, special_tokens=special_tokens, token_types=token_types)\n",
    "            seed_ft, seed_fd = out[\"f_t\"][0:1], out[\"f_d\"][0:1]\n",
    "            reco_ft, reco_fd = out[\"f_t\"][1:2], out[\"f_d\"][1:2]\n",
    "            td_sim, dt_sim = out[\"cos_sim\"][2:3], out[\"cos_sim\"][3:4]\n",
    "\n",
    "            tt_sim = td_head.forward(seed_ft, reco_ft)\n",
    "            dd_sim = td_head.forward(seed_fd, reco_fd)\n",
    "\n",
    "            total = sum([td_sim, dt_sim, tt_sim, dd_sim])\n",
    "            label = seed[\"label\"] == reco[\"label\"]\n",
    "\n",
    "            rating.append(total)\n",
    "            target.append(label)\n",
    "\n",
    "        ratings.append(rating)\n",
    "        targets.append(target)\n",
    "\n",
    "        if i > 0 and i % 10 == 0:\n",
    "            print(f\"Row {i} processed...\")"
   ]
  }
 ],
 "metadata": {
  "kernelspec": {
   "display_name": "Python 3.9.15 ('nlp_course')",
   "language": "python",
   "name": "python3"
  },
  "language_info": {
   "codemirror_mode": {
    "name": "ipython",
    "version": 3
   },
   "file_extension": ".py",
   "mimetype": "text/x-python",
   "name": "python",
   "nbconvert_exporter": "python",
   "pygments_lexer": "ipython3",
   "version": "3.9.15"
  },
  "orig_nbformat": 4,
  "vscode": {
   "interpreter": {
    "hash": "cefe024ddf3585106c987cb172af2221161944a540f8557eea5f2b2b960ae866"
   }
  }
 },
 "nbformat": 4,
 "nbformat_minor": 2
}
