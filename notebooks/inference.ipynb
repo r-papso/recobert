{
 "cells": [
  {
   "cell_type": "code",
   "execution_count": 2,
   "metadata": {},
   "outputs": [
    {
     "name": "stderr",
     "output_type": "stream",
     "text": [
      "/home/rastislav_papso/.conda/envs/nlp_course/lib/python3.9/site-packages/tqdm/auto.py:22: TqdmWarning: IProgress not found. Please update jupyter and ipywidgets. See https://ipywidgets.readthedocs.io/en/stable/user_install.html\n",
      "  from .autonotebook import tqdm as notebook_tqdm\n"
     ]
    }
   ],
   "source": [
    "import sys\n",
    "import torch\n",
    "import pandas as pd"
   ]
  },
  {
   "cell_type": "code",
   "execution_count": 3,
   "metadata": {},
   "outputs": [],
   "source": [
    "from transformers import BertTokenizer, BertModel\n",
    "from transformers import RobertaTokenizer, RobertaModel"
   ]
  },
  {
   "cell_type": "code",
   "execution_count": 4,
   "metadata": {},
   "outputs": [],
   "source": [
    "import sys\n",
    "sys.path.append(\"..\")"
   ]
  },
  {
   "cell_type": "code",
   "execution_count": 88,
   "metadata": {},
   "outputs": [],
   "source": [
    "from src.model import TitleDescriptionHead"
   ]
  },
  {
   "cell_type": "code",
   "execution_count": 13,
   "metadata": {},
   "outputs": [
    {
     "name": "stderr",
     "output_type": "stream",
     "text": [
      "Some weights of the model checkpoint at bert-base-cased were not used when initializing BertModel: ['cls.seq_relationship.bias', 'cls.predictions.transform.LayerNorm.bias', 'cls.predictions.decoder.weight', 'cls.predictions.transform.dense.weight', 'cls.predictions.transform.LayerNorm.weight', 'cls.seq_relationship.weight', 'cls.predictions.bias', 'cls.predictions.transform.dense.bias']\n",
      "- This IS expected if you are initializing BertModel from the checkpoint of a model trained on another task or with another architecture (e.g. initializing a BertForSequenceClassification model from a BertForPreTraining model).\n",
      "- This IS NOT expected if you are initializing BertModel from the checkpoint of a model that you expect to be exactly identical (initializing a BertForSequenceClassification model from a BertForSequenceClassification model).\n"
     ]
    }
   ],
   "source": [
    "# BERT (https://arxiv.org/pdf/1810.04805.pdf)\n",
    "tokenizer = BertTokenizer.from_pretrained('bert-base-cased')\n",
    "# bert = BertModel.from_pretrained(\"bert-base-cased\")"
   ]
  },
  {
   "cell_type": "code",
   "execution_count": 14,
   "metadata": {},
   "outputs": [],
   "source": [
    "model = torch.load(\"../scripts/checkpoint/097_0.7962.pth\")"
   ]
  },
  {
   "cell_type": "code",
   "execution_count": 36,
   "metadata": {},
   "outputs": [
    {
     "name": "stdout",
     "output_type": "stream",
     "text": [
      "Using cuda:2 device\n"
     ]
    }
   ],
   "source": [
    "device = \"cuda:2\" if torch.cuda.is_available() else \"cpu\"\n",
    "print(f\"Using {device} device\")\n",
    "model = model.eval().to(device)"
   ]
  },
  {
   "cell_type": "code",
   "execution_count": 55,
   "metadata": {},
   "outputs": [],
   "source": [
    "df = pd.read_csv(\"../data/wines_seeds_complete.csv\", index_col=0)"
   ]
  },
  {
   "cell_type": "code",
   "execution_count": null,
   "metadata": {},
   "outputs": [],
   "source": [
    "td_head = TitleDescriptionHead()"
   ]
  },
  {
   "cell_type": "code",
   "execution_count": null,
   "metadata": {},
   "outputs": [],
   "source": [
    "prev_seed = \"\"\n",
    "ratings, targets = [], []\n",
    "\n",
    "with torch.no_grad():\n",
    "    for i, seed in df.iterrows():\n",
    "        if seed[\"seed title\"] == prev_seed:\n",
    "            continue\n",
    "\n",
    "        prev_seed = seed[\"seed title\"]\n",
    "        rating, target = [], []\n",
    "\n",
    "        for j, reco in df.iterrows():\n",
    "            seed_t, seed_d = seed[\"seed title\"], seed[\"seed description\"]\n",
    "            reco_t, reco_d = reco[\"recommended title\"], reco[\"recommended description\"]\n",
    "\n",
    "            seed_tokens = tokenizer(\n",
    "                [seed_t], [seed_d], return_special_tokens_mask=True, return_token_type_ids=True, \n",
    "                padding=True, truncation=True, return_attention_mask=True, return_tensors=\"pt\"\n",
    "            )\n",
    "\n",
    "            special_tokens, attn_mask = seed_tokens[\"special_tokens_mask\"].to(device), seed_tokens[\"attention_mask\"].to(device)\n",
    "            input_ids, token_types = seed_tokens[\"input_ids\"].to(device), seed_tokens[\"token_type_ids\"].to(device)\n",
    "\n",
    "            seed_out = model.forward(input_ids=input_ids, attn_mask=attn_mask, special_tokens=special_tokens, token_types=token_types)\n",
    "            seed_ft, seed_fd = seed_out[\"f_t\"], seed_out[\"f_d\"]\n",
    "            \n",
    "            reco_tokens = tokenizer(\n",
    "                [reco_t], [reco_d], return_special_tokens_mask=True, return_token_type_ids=True, \n",
    "                padding=True, truncation=True, return_attention_mask=True, return_tensors=\"pt\"\n",
    "            )\n",
    "\n",
    "            special_tokens, attn_mask = reco_tokens[\"special_tokens_mask\"].to(device), reco_tokens[\"attention_mask\"].to(device)\n",
    "            input_ids, token_types = reco_tokens[\"input_ids\"].to(device), reco_tokens[\"token_type_ids\"].to(device)\n",
    "\n",
    "            reco_out = model.forward(input_ids=input_ids, attn_mask=attn_mask, special_tokens=special_tokens, token_types=token_types)\n",
    "            reco_ft, reco_fd = reco_out[\"f_t\"], reco_out[\"f_d\"]\n",
    "\n",
    "            td_tokens = tokenizer(\n",
    "                [seed_t], [reco_d], return_special_tokens_mask=True, return_token_type_ids=True, \n",
    "                padding=True, truncation=True, return_attention_mask=True, return_tensors=\"pt\"\n",
    "            )\n",
    "\n",
    "            special_tokens, attn_mask = td_tokens[\"special_tokens_mask\"].to(device), td_tokens[\"attention_mask\"].to(device)\n",
    "            input_ids, token_types = td_tokens[\"input_ids\"].to(device), td_tokens[\"token_type_ids\"].to(device)\n",
    "\n",
    "            td_out = model.forward(input_ids=input_ids, attn_mask=attn_mask, special_tokens=special_tokens, token_types=token_types)\n",
    "            td_sim = td_out[\"cos_sim\"]\n",
    "\n",
    "            dt_tokens = tokenizer(\n",
    "                [reco_t], [seed_d], return_special_tokens_mask=True, return_token_type_ids=True, \n",
    "                padding=True, truncation=True, return_attention_mask=True, return_tensors=\"pt\"\n",
    "            )\n",
    "\n",
    "            special_tokens, attn_mask = dt_tokens[\"special_tokens_mask\"].to(device), dt_tokens[\"attention_mask\"].to(device)\n",
    "            input_ids, token_types = dt_tokens[\"input_ids\"].to(device), dt_tokens[\"token_type_ids\"].to(device)\n",
    "\n",
    "            dt_out = model.forward(input_ids=input_ids, attn_mask=attn_mask, special_tokens=special_tokens, token_types=token_types)\n",
    "            dt_sim = dt_out[\"cos_sim\"]\n",
    "\n",
    "            tt_sim = td_head.forward(seed_ft, reco_ft)\n",
    "            dd_sim = td_head.forward(seed_fd, reco_fd)\n",
    "\n",
    "            total = sum([td_sim, dt_sim, tt_sim, dd_sim])\n",
    "            label = seed[\"seed title\"] == reco[\"seed title\"]\n",
    "\n",
    "            rating.append(total)\n",
    "            target.append(label)\n",
    "\n",
    "        ratings.append(rating)\n",
    "        targets.append(target)\n",
    "\n",
    "        if i > 0 and i % 10 == 0:\n",
    "            print(f\"Row {i} processed...\")"
   ]
  },
  {
   "cell_type": "code",
   "execution_count": 97,
   "metadata": {},
   "outputs": [],
   "source": [
    "r = torch.tensor(ratings)\n",
    "y = torch.tensor(targets)"
   ]
  },
  {
   "cell_type": "code",
   "execution_count": 98,
   "metadata": {},
   "outputs": [],
   "source": [
    "r_sort, idxs = torch.sort(r, descending=True)\n",
    "y_sort = torch.gather(y, dim=1, index=idxs)"
   ]
  },
  {
   "cell_type": "code",
   "execution_count": 99,
   "metadata": {},
   "outputs": [],
   "source": [
    "k = 10\n",
    "top_k = y_sort[:, :k]"
   ]
  },
  {
   "cell_type": "code",
   "execution_count": 100,
   "metadata": {},
   "outputs": [
    {
     "data": {
      "text/plain": [
       "0.5189873417721519"
      ]
     },
     "execution_count": 100,
     "metadata": {},
     "output_type": "execute_result"
    }
   ],
   "source": [
    "torch.sum(top_k).item() / y.shape[1]"
   ]
  },
  {
   "cell_type": "code",
   "execution_count": 103,
   "metadata": {},
   "outputs": [],
   "source": [
    "torch.save(r, \"../data/wine_scores.pt\")\n",
    "torch.save(y, \"../data/wine_labels.pt\")"
   ]
  },
  {
   "cell_type": "code",
   "execution_count": 94,
   "metadata": {},
   "outputs": [],
   "source": [
    "df.to_pickle(\"../data/wines_seeds_embeds.pickle\")"
   ]
  }
 ],
 "metadata": {
  "kernelspec": {
   "display_name": "Python 3.9.15 ('nlp_course')",
   "language": "python",
   "name": "python3"
  },
  "language_info": {
   "codemirror_mode": {
    "name": "ipython",
    "version": 3
   },
   "file_extension": ".py",
   "mimetype": "text/x-python",
   "name": "python",
   "nbconvert_exporter": "python",
   "pygments_lexer": "ipython3",
   "version": "3.9.15"
  },
  "orig_nbformat": 4,
  "vscode": {
   "interpreter": {
    "hash": "cefe024ddf3585106c987cb172af2221161944a540f8557eea5f2b2b960ae866"
   }
  }
 },
 "nbformat": 4,
 "nbformat_minor": 2
}
