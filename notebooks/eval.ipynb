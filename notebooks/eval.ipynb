{
 "cells": [
  {
   "cell_type": "code",
   "execution_count": 1,
   "metadata": {},
   "outputs": [
    {
     "name": "stderr",
     "output_type": "stream",
     "text": [
      "/home/rastislav_papso/.conda/envs/nlp_course/lib/python3.9/site-packages/tqdm/auto.py:22: TqdmWarning: IProgress not found. Please update jupyter and ipywidgets. See https://ipywidgets.readthedocs.io/en/stable/user_install.html\n",
      "  from .autonotebook import tqdm as notebook_tqdm\n"
     ]
    }
   ],
   "source": [
    "import sys\n",
    "import torch\n",
    "import pandas as pd"
   ]
  },
  {
   "cell_type": "code",
   "execution_count": 2,
   "metadata": {},
   "outputs": [],
   "source": [
    "from transformers import BertTokenizer, BertModel\n",
    "from transformers import RobertaTokenizer, RobertaModel"
   ]
  },
  {
   "cell_type": "code",
   "execution_count": 3,
   "metadata": {},
   "outputs": [],
   "source": [
    "import sys\n",
    "sys.path.append(\"..\")"
   ]
  },
  {
   "cell_type": "code",
   "execution_count": 4,
   "metadata": {},
   "outputs": [],
   "source": [
    "from src.model import TitleDescriptionHead"
   ]
  },
  {
   "cell_type": "code",
   "execution_count": 5,
   "metadata": {},
   "outputs": [],
   "source": [
    "# BERT (https://arxiv.org/pdf/1810.04805.pdf)\n",
    "tokenizer = BertTokenizer.from_pretrained('bert-base-cased')\n",
    "# bert = BertModel.from_pretrained(\"bert-base-cased\")"
   ]
  },
  {
   "cell_type": "code",
   "execution_count": 10,
   "metadata": {},
   "outputs": [],
   "source": [
    "df = pd.read_pickle(\"../data/wines_seeds_embeds.pickle\")"
   ]
  },
  {
   "cell_type": "code",
   "execution_count": 7,
   "metadata": {},
   "outputs": [],
   "source": [
    "td_head = TitleDescriptionHead()"
   ]
  },
  {
   "cell_type": "code",
   "execution_count": 14,
   "metadata": {},
   "outputs": [
    {
     "data": {
      "text/html": [
       "<div>\n",
       "<style scoped>\n",
       "    .dataframe tbody tr th:only-of-type {\n",
       "        vertical-align: middle;\n",
       "    }\n",
       "\n",
       "    .dataframe tbody tr th {\n",
       "        vertical-align: top;\n",
       "    }\n",
       "\n",
       "    .dataframe thead th {\n",
       "        text-align: right;\n",
       "    }\n",
       "</style>\n",
       "<table border=\"1\" class=\"dataframe\">\n",
       "  <thead>\n",
       "    <tr style=\"text-align: right;\">\n",
       "      <th></th>\n",
       "      <th>seed url</th>\n",
       "      <th>seed title</th>\n",
       "      <th>recommended url</th>\n",
       "      <th>recommended title</th>\n",
       "      <th>text only ranking (1-5)</th>\n",
       "      <th>general rank</th>\n",
       "      <th>similar phrases</th>\n",
       "      <th>comments</th>\n",
       "      <th>seed description</th>\n",
       "      <th>recommended description</th>\n",
       "      <th>seed_ft</th>\n",
       "      <th>seed_fd</th>\n",
       "      <th>reco_ft</th>\n",
       "      <th>reco_fd</th>\n",
       "    </tr>\n",
       "  </thead>\n",
       "  <tbody>\n",
       "    <tr>\n",
       "      <th>0</th>\n",
       "      <td>https://www.winemag.com/buying-guide/domaine-b...</td>\n",
       "      <td>Domaine Bertagna 2016 Clos de la Perrière Prem...</td>\n",
       "      <td>https://www.winemag.com/buying-guide/louis-jad...</td>\n",
       "      <td>Louis Jadot 2015 Clos de la Roche</td>\n",
       "      <td>3.0</td>\n",
       "      <td>4.0</td>\n",
       "      <td>wine has weight, Drink from 2025</td>\n",
       "      <td>Even that the comments are not so similar, all...</td>\n",
       "      <td>This vineyard, wholly owned by the producer, l...</td>\n",
       "      <td>This grand vineyard is one of the jewels of Mo...</td>\n",
       "      <td>[[0.091880694, -0.06518696, -0.66011435, -0.64...</td>\n",
       "      <td>[[0.15718883, 0.3467855, -0.17038564, -0.27930...</td>\n",
       "      <td>[[0.56398755, 0.94091225, -0.7593706, -0.53957...</td>\n",
       "      <td>[[0.39460817, 0.34317994, -0.32499927, -0.1747...</td>\n",
       "    </tr>\n",
       "    <tr>\n",
       "      <th>1</th>\n",
       "      <td>https://www.winemag.com/buying-guide/domaine-b...</td>\n",
       "      <td>Domaine Bertagna 2016 Clos de la Perrière Prem...</td>\n",
       "      <td>https://www.winemag.com/buying-guide/albert-bi...</td>\n",
       "      <td>Albert Bichot 2016 Clos Rousseau Premier Cru (...</td>\n",
       "      <td>3.0</td>\n",
       "      <td>4.0</td>\n",
       "      <td>ark tannins, it also has fine potential. Ripe ...</td>\n",
       "      <td>NaN</td>\n",
       "      <td>This vineyard, wholly owned by the producer, l...</td>\n",
       "      <td>While this wine is still very young with its d...</td>\n",
       "      <td>[[0.091880694, -0.06518696, -0.66011435, -0.64...</td>\n",
       "      <td>[[0.15718883, 0.3467855, -0.17038564, -0.27930...</td>\n",
       "      <td>[[-0.15257798, 0.32108578, -0.7898957, -0.2816...</td>\n",
       "      <td>[[0.5837172, 0.46521288, 0.038680874, 0.171878...</td>\n",
       "    </tr>\n",
       "    <tr>\n",
       "      <th>2</th>\n",
       "      <td>https://www.winemag.com/buying-guide/domaine-b...</td>\n",
       "      <td>Domaine Bertagna 2016 Clos de la Perrière Prem...</td>\n",
       "      <td>https://www.winemag.com/buying-guide/franz-kel...</td>\n",
       "      <td>Franz Keller 2016 Vom Löss Pinot Noir (Baden)</td>\n",
       "      <td>2.0</td>\n",
       "      <td>4.0</td>\n",
       "      <td>plum and smoke. Black cherry,  it should impro...</td>\n",
       "      <td>NaN</td>\n",
       "      <td>This vineyard, wholly owned by the producer, l...</td>\n",
       "      <td>The nose of this wine is beautifully perfumed,...</td>\n",
       "      <td>[[0.091880694, -0.06518696, -0.66011435, -0.64...</td>\n",
       "      <td>[[0.15718883, 0.3467855, -0.17038564, -0.27930...</td>\n",
       "      <td>[[0.027803993, -0.29339287, 0.6200502, 0.58391...</td>\n",
       "      <td>[[0.22379906, 0.23264265, 0.8532843, 0.2428080...</td>\n",
       "    </tr>\n",
       "  </tbody>\n",
       "</table>\n",
       "</div>"
      ],
      "text/plain": [
       "                                            seed url  \\\n",
       "0  https://www.winemag.com/buying-guide/domaine-b...   \n",
       "1  https://www.winemag.com/buying-guide/domaine-b...   \n",
       "2  https://www.winemag.com/buying-guide/domaine-b...   \n",
       "\n",
       "                                          seed title  \\\n",
       "0  Domaine Bertagna 2016 Clos de la Perrière Prem...   \n",
       "1  Domaine Bertagna 2016 Clos de la Perrière Prem...   \n",
       "2  Domaine Bertagna 2016 Clos de la Perrière Prem...   \n",
       "\n",
       "                                     recommended url  \\\n",
       "0  https://www.winemag.com/buying-guide/louis-jad...   \n",
       "1  https://www.winemag.com/buying-guide/albert-bi...   \n",
       "2  https://www.winemag.com/buying-guide/franz-kel...   \n",
       "\n",
       "                                   recommended title  text only ranking (1-5)  \\\n",
       "0                  Louis Jadot 2015 Clos de la Roche                      3.0   \n",
       "1  Albert Bichot 2016 Clos Rousseau Premier Cru (...                      3.0   \n",
       "2      Franz Keller 2016 Vom Löss Pinot Noir (Baden)                      2.0   \n",
       "\n",
       "   general rank                                     similar phrases  \\\n",
       "0            4.0                   wine has weight, Drink from 2025   \n",
       "1            4.0  ark tannins, it also has fine potential. Ripe ...   \n",
       "2            4.0  plum and smoke. Black cherry,  it should impro...   \n",
       "\n",
       "                                            comments  \\\n",
       "0  Even that the comments are not so similar, all...   \n",
       "1                                                NaN   \n",
       "2                                                NaN   \n",
       "\n",
       "                                    seed description  \\\n",
       "0  This vineyard, wholly owned by the producer, l...   \n",
       "1  This vineyard, wholly owned by the producer, l...   \n",
       "2  This vineyard, wholly owned by the producer, l...   \n",
       "\n",
       "                             recommended description  \\\n",
       "0  This grand vineyard is one of the jewels of Mo...   \n",
       "1  While this wine is still very young with its d...   \n",
       "2  The nose of this wine is beautifully perfumed,...   \n",
       "\n",
       "                                             seed_ft  \\\n",
       "0  [[0.091880694, -0.06518696, -0.66011435, -0.64...   \n",
       "1  [[0.091880694, -0.06518696, -0.66011435, -0.64...   \n",
       "2  [[0.091880694, -0.06518696, -0.66011435, -0.64...   \n",
       "\n",
       "                                             seed_fd  \\\n",
       "0  [[0.15718883, 0.3467855, -0.17038564, -0.27930...   \n",
       "1  [[0.15718883, 0.3467855, -0.17038564, -0.27930...   \n",
       "2  [[0.15718883, 0.3467855, -0.17038564, -0.27930...   \n",
       "\n",
       "                                             reco_ft  \\\n",
       "0  [[0.56398755, 0.94091225, -0.7593706, -0.53957...   \n",
       "1  [[-0.15257798, 0.32108578, -0.7898957, -0.2816...   \n",
       "2  [[0.027803993, -0.29339287, 0.6200502, 0.58391...   \n",
       "\n",
       "                                             reco_fd  \n",
       "0  [[0.39460817, 0.34317994, -0.32499927, -0.1747...  \n",
       "1  [[0.5837172, 0.46521288, 0.038680874, 0.171878...  \n",
       "2  [[0.22379906, 0.23264265, 0.8532843, 0.2428080...  "
      ]
     },
     "execution_count": 14,
     "metadata": {},
     "output_type": "execute_result"
    }
   ],
   "source": [
    "df.head(3)"
   ]
  },
  {
   "cell_type": "code",
   "execution_count": 20,
   "metadata": {},
   "outputs": [],
   "source": [
    "prev_seed = \"\"\n",
    "ratings, targets = [], []\n",
    "\n",
    "for i, seed in df.iterrows():\n",
    "    if seed[\"seed title\"] == prev_seed:\n",
    "        continue\n",
    "\n",
    "    prev_seed = seed[\"seed title\"]\n",
    "    rating, target = [], []\n",
    "    seed_ft, seed_fd = torch.tensor(seed[\"seed_ft\"]), torch.tensor(seed[\"seed_fd\"])\n",
    "\n",
    "    for j, reco in df.iterrows():\n",
    "        reco_ft, reco_fd = torch.tensor(reco[\"reco_ft\"]), torch.tensor(reco[\"reco_fd\"])\n",
    "\n",
    "        score_tt = td_head.forward(seed_ft, reco_ft)\n",
    "        score_dd = td_head.forward(seed_fd, reco_fd)\n",
    "        score_td = td_head.forward(seed_ft, reco_fd)\n",
    "        score_dt = td_head.forward(seed_fd, reco_ft)\n",
    "        total = sum([score_tt, score_dd, score_td, score_dt])\n",
    "\n",
    "        ground_truth = seed[\"seed title\"] == reco[\"seed title\"]\n",
    "        rating.append(total)\n",
    "        target.append(ground_truth)\n",
    "    \n",
    "    ratings.append(rating)\n",
    "    targets.append(target)"
   ]
  },
  {
   "cell_type": "code",
   "execution_count": 36,
   "metadata": {},
   "outputs": [],
   "source": [
    "torch.set_printoptions(linewidth=500, edgeitems=20, precision=2)"
   ]
  },
  {
   "cell_type": "code",
   "execution_count": 23,
   "metadata": {},
   "outputs": [],
   "source": [
    "r = torch.tensor(ratings)\n",
    "y = torch.tensor(targets)"
   ]
  },
  {
   "cell_type": "code",
   "execution_count": 30,
   "metadata": {},
   "outputs": [],
   "source": [
    "r_sort, idxs = torch.sort(r, descending=True)\n",
    "y_sort = torch.gather(y, dim=1, index=idxs)"
   ]
  },
  {
   "cell_type": "code",
   "execution_count": 38,
   "metadata": {},
   "outputs": [],
   "source": [
    "k = 10\n",
    "top_k = y_sort[:, :k]"
   ]
  },
  {
   "cell_type": "code",
   "execution_count": 41,
   "metadata": {},
   "outputs": [
    {
     "data": {
      "text/plain": [
       "1027"
      ]
     },
     "execution_count": 41,
     "metadata": {},
     "output_type": "execute_result"
    }
   ],
   "source": [
    "y.shape[1]"
   ]
  },
  {
   "cell_type": "code",
   "execution_count": 42,
   "metadata": {},
   "outputs": [
    {
     "data": {
      "text/plain": [
       "0.2697176241480039"
      ]
     },
     "execution_count": 42,
     "metadata": {},
     "output_type": "execute_result"
    }
   ],
   "source": [
    "torch.sum(top_k).item() / y.shape[1]"
   ]
  }
 ],
 "metadata": {
  "kernelspec": {
   "display_name": "Python 3.9.15 ('nlp_course')",
   "language": "python",
   "name": "python3"
  },
  "language_info": {
   "codemirror_mode": {
    "name": "ipython",
    "version": 3
   },
   "file_extension": ".py",
   "mimetype": "text/x-python",
   "name": "python",
   "nbconvert_exporter": "python",
   "pygments_lexer": "ipython3",
   "version": "3.9.15"
  },
  "orig_nbformat": 4,
  "vscode": {
   "interpreter": {
    "hash": "cefe024ddf3585106c987cb172af2221161944a540f8557eea5f2b2b960ae866"
   }
  }
 },
 "nbformat": 4,
 "nbformat_minor": 2
}
