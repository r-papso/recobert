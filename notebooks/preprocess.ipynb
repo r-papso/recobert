{
 "cells": [
  {
   "cell_type": "code",
   "execution_count": 1,
   "metadata": {},
   "outputs": [],
   "source": [
    "import pandas as pd"
   ]
  },
  {
   "cell_type": "code",
   "execution_count": 2,
   "metadata": {},
   "outputs": [],
   "source": [
    "wines = pd.read_csv(\"../data/winemag-data-130k-v2.csv\", index_col=0)"
   ]
  },
  {
   "cell_type": "code",
   "execution_count": 47,
   "metadata": {},
   "outputs": [],
   "source": [
    "recom = pd.read_csv(\"../data/1027 expert annotations for 100 wines seeds.csv\")"
   ]
  },
  {
   "cell_type": "code",
   "execution_count": 48,
   "metadata": {},
   "outputs": [],
   "source": [
    "for idx, row in recom.iterrows():\n",
    "    if not pd.isna(recom.iloc[idx][\"seed url\"]):\n",
    "        continue\n",
    "\n",
    "    seed_idx = recom.iloc[:idx][\"seed url\"].last_valid_index()\n",
    "    recom.at[idx, \"seed url\"] = recom.iloc[seed_idx][\"seed url\"]\n",
    "    recom.at[idx, \"seed title\"] = recom.iloc[seed_idx][\"seed title\"]"
   ]
  },
  {
   "cell_type": "code",
   "execution_count": 52,
   "metadata": {},
   "outputs": [],
   "source": [
    "recom.to_csv(\"../data/wines_seeds_updated.csv\")"
   ]
  },
  {
   "cell_type": "code",
   "execution_count": null,
   "metadata": {},
   "outputs": [],
   "source": [
    "wines"
   ]
  },
  {
   "cell_type": "code",
   "execution_count": 6,
   "metadata": {},
   "outputs": [],
   "source": [
    "t, d = wines.iloc[0][[\"title\", \"description\"]]"
   ]
  },
  {
   "cell_type": "code",
   "execution_count": 70,
   "metadata": {},
   "outputs": [
    {
     "data": {
      "text/plain": [
       "'https://www.winemag.com/buying-guide/banfi-2017-rosso-di-montalcino/'"
      ]
     },
     "execution_count": 70,
     "metadata": {},
     "output_type": "execute_result"
    }
   ],
   "source": [
    "recom[recom[\"seed title\"] == \"Banfi 2017 Rosso di Montalcino\"][\"seed url\"].to_numpy()[0]"
   ]
  },
  {
   "cell_type": "code",
   "execution_count": null,
   "metadata": {},
   "outputs": [],
   "source": [
    "recom"
   ]
  }
 ],
 "metadata": {
  "kernelspec": {
   "display_name": "Python 3.9.15 ('nlp-course')",
   "language": "python",
   "name": "python3"
  },
  "language_info": {
   "codemirror_mode": {
    "name": "ipython",
    "version": 3
   },
   "file_extension": ".py",
   "mimetype": "text/x-python",
   "name": "python",
   "nbconvert_exporter": "python",
   "pygments_lexer": "ipython3",
   "version": "3.9.15"
  },
  "orig_nbformat": 4,
  "vscode": {
   "interpreter": {
    "hash": "ee2c72bcb8098d9e6bdb672accf3d92a948f889256898e54741e3c9951aec79d"
   }
  }
 },
 "nbformat": 4,
 "nbformat_minor": 2
}
